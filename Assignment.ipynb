{
 "cells": [
  {
   "cell_type": "markdown",
   "id": "9b3a5ff1",
   "metadata": {},
   "source": [
    "# ASSIGNMENT"
   ]
  },
  {
   "cell_type": "markdown",
   "id": "644085fc",
   "metadata": {},
   "source": [
    "INTRODUCTION:\n",
    "Tools for Data Science"
   ]
  },
  {
   "cell_type": "markdown",
   "id": "18d65daa",
   "metadata": {},
   "source": [
    "list of data science languages:\n",
    "1. python\n",
    "2. r\n",
    "3. sql\n",
    "4. scala\n",
    "5. java\n",
    "6. julia\n",
    "7. ruby\n",
    "8. c/c++\n",
    "9. javascript\n",
    "10. swift"
   ]
  },
  {
   "cell_type": "markdown",
   "id": "b9dfcdbc",
   "metadata": {},
   "source": [
    "list of data science libraries:\n",
    "1. pandas\n",
    "2. numpy\n",
    "3. matplotlib\n",
    "4. seaborn\n",
    "5. tensorflow\n",
    "6. keras\n",
    "7. scikit-learn\n",
    "8. ggplot2\n",
    "9. caret\n",
    "10. stringr"
   ]
  },
  {
   "cell_type": "markdown",
   "id": "68d9444d",
   "metadata": {},
   "source": [
    "| s.no. | data science tool |\n",
    "| ----- | ----------------- |\n",
    "| 1     | Mysql             |\n",
    "| 2     | Apache Airflow    |\n",
    "| 3     | Pixie Dust        |\n",
    "| 4     | github            |\n",
    "| 5     | apache atlas      |\n",
    "| 6     | rstudio           |\n",
    "| 7     | jupyter           |\n",
    "| 8     | apache spark      |\n",
    "| 9     | gitlab            |\n",
    "|10     | git               |"
   ]
  },
  {
   "cell_type": "markdown",
   "id": "a0650c52",
   "metadata": {},
   "source": [
    "## Arithmetic expressions:\n",
    "1. Addition: 2+3\n",
    "2. Subtraction: 3-2\n",
    "3. division: 3/2\n",
    "4. multiplication: 3*2"
   ]
  },
  {
   "cell_type": "code",
   "execution_count": 2,
   "id": "fb466327",
   "metadata": {},
   "outputs": [
    {
     "name": "stdout",
     "output_type": "stream",
     "text": [
      "enter 1st number2\n",
      "enter 2nd number3\n",
      "6\n",
      "5\n"
     ]
    }
   ],
   "source": [
    "a=int(input(\"enter 1st number\"))\n",
    "b=int(input(\"enter 2nd number\"))\n",
    "print(a*b)\n",
    "print(a+b)"
   ]
  },
  {
   "cell_type": "code",
   "execution_count": 5,
   "id": "1967bd17",
   "metadata": {},
   "outputs": [
    {
     "name": "stdout",
     "output_type": "stream",
     "text": [
      "enter no.of minutes240\n",
      "4.0\n"
     ]
    }
   ],
   "source": [
    "minutes=int(input(\"enter no.of minutes\"))\n",
    "hrs=minutes/60\n",
    "print(hrs)"
   ]
  },
  {
   "cell_type": "markdown",
   "id": "5bcdd959",
   "metadata": {},
   "source": [
    "Objectives:\n",
    "1. Describe the components of a Data Scientist's toolkit and list various tool categories\n",
    "\n",
    "2. List examples of Open Source, Commercial, and Cloud-based tools in various categories\n",
    "\n",
    "3. Identify the criteria and roles for determining the language to learn.\n",
    "\n",
    "4. Identify the users and benefits of Python.\n",
    "\n",
    "5. Identify the users and uses of the R language.\n",
    "\n",
    "6. Define SQL elements and list their benefits.\n",
    "\n",
    "7. Review languages such as Java, Scala, C++, JavaScript, and Julia.\n",
    "\n",
    "8. List the global communities for connecting with other users.\n",
    "\n"
   ]
  },
  {
   "cell_type": "markdown",
   "id": "d9289b6f",
   "metadata": {},
   "source": [
    "Author: Sam"
   ]
  }
 ],
 "metadata": {
  "kernelspec": {
   "display_name": "Python 3 (ipykernel)",
   "language": "python",
   "name": "python3"
  },
  "language_info": {
   "codemirror_mode": {
    "name": "ipython",
    "version": 3
   },
   "file_extension": ".py",
   "mimetype": "text/x-python",
   "name": "python",
   "nbconvert_exporter": "python",
   "pygments_lexer": "ipython3",
   "version": "3.11.4"
  }
 },
 "nbformat": 4,
 "nbformat_minor": 5
}
